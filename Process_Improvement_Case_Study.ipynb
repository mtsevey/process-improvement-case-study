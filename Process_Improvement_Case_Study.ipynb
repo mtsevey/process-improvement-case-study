{
 "cells": [
  {
   "cell_type": "markdown",
   "id": "853bbe02",
   "metadata": {},
   "source": [
    "\n",
    "# Process Improvement Case Study: Order Fulfilment\n",
    "\n",
    "This notebook analyses order fulfilment cycle times using the **100 Sales Records** dataset.  \n",
    "The dataset contains 100 orders across multiple regions and includes both **Order Date** and **Ship Date**, enabling us to calculate the cycle time (in days) for each order.  The goal of this case study is to:\n",
    "\n",
    "* Map the high‑level process flow from order placement to shipping.\n",
    "* Calculate and visualise order cycle times to identify bottlenecks.\n",
    "* Provide data‑driven recommendations to improve the process.\n"
   ]
  },
  {
   "cell_type": "code",
   "execution_count": null,
   "id": "cb46b554",
   "metadata": {},
   "outputs": [],
   "source": [
    "\n",
    "import pandas as pd\n",
    "import matplotlib.pyplot as plt\n",
    "import seaborn as sns\n",
    "\n",
    "# Load data\n",
    "file_path = 'sales_data.csv'\n",
    "df = pd.read_csv(file_path)\n",
    "\n",
    "# Convert date columns to datetime\n",
    "for col in ['Order Date', 'Ship Date']:\n",
    "    df[col] = pd.to_datetime(df[col], errors='coerce')\n",
    "\n",
    "# Compute cycle time in days\n",
    "df['Cycle_Time'] = (df['Ship Date'] - df['Order Date']).dt.days\n",
    "\n",
    "df[['Region','Order Date','Ship Date','Cycle_Time']].head()\n"
   ]
  },
  {
   "cell_type": "code",
   "execution_count": null,
   "id": "5dcd783d",
   "metadata": {},
   "outputs": [],
   "source": [
    "\n",
    "# Summary statistics for cycle time\n",
    "summary = df['Cycle_Time'].describe()\n",
    "summary\n",
    "\n",
    "# Average cycle time by region\n",
    "avg_by_region = df.groupby('Region')['Cycle_Time'].mean().sort_values(ascending=False)\n",
    "avg_by_region\n",
    "\n",
    "# Top 5 longest cycle times\n",
    "top5 = df.nlargest(5, 'Cycle_Time')[['Region', 'Country', 'Order Date', 'Ship Date', 'Cycle_Time']]\n",
    "top5\n"
   ]
  },
  {
   "cell_type": "code",
   "execution_count": null,
   "id": "6178eb65",
   "metadata": {},
   "outputs": [],
   "source": [
    "\n",
    "# Plot cycle time distribution\n",
    "plt.figure(figsize=(8,5))\n",
    "sns.histplot(df['Cycle_Time'], bins=10, kde=False, color='#4C72B0')\n",
    "plt.title('Order Cycle Time Distribution')\n",
    "plt.xlabel('Cycle Time (days)')\n",
    "plt.ylabel('Number of Orders')\n",
    "plt.show()\n",
    "\n",
    "# Plot average cycle time by region\n",
    "plt.figure(figsize=(10,6))\n",
    "avg_by_region.plot(kind='bar', color='#4C72B0')\n",
    "plt.title('Average Order Cycle Time by Region')\n",
    "plt.xlabel('Region')\n",
    "plt.ylabel('Average Cycle Time (days)')\n",
    "plt.xticks(rotation=45)\n",
    "plt.show()\n"
   ]
  },
  {
   "cell_type": "markdown",
   "id": "ee16089f",
   "metadata": {},
   "source": [
    "**Note:** Additional deliverables such as process flow diagrams, use‑cases, requirements and stakeholder analysis are included in the project repository."
   ]
  }
 ],
 "metadata": {},
 "nbformat": 4,
 "nbformat_minor": 5
}
